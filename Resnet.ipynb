{
  "cells": [
    {
      "cell_type": "code",
      "execution_count": 1,
      "metadata": {
        "colab": {
          "base_uri": "https://localhost:8080/"
        },
        "id": "_RRCh_kzCKBk",
        "outputId": "5d27e3d0-d717-4e06-a0d7-7b02924b7fef"
      },
      "outputs": [
        {
          "output_type": "stream",
          "name": "stdout",
          "text": [
            "Collecting torchinfo\n",
            "  Downloading torchinfo-1.8.0-py3-none-any.whl (23 kB)\n",
            "Installing collected packages: torchinfo\n",
            "Successfully installed torchinfo-1.8.0\n",
            "Collecting datasets\n",
            "  Downloading datasets-2.16.1-py3-none-any.whl (507 kB)\n",
            "\u001b[2K     \u001b[90m━━━━━━━━━━━━━━━━━━━━━━━━━━━━━━━━━━━━━━━━\u001b[0m \u001b[32m507.1/507.1 kB\u001b[0m \u001b[31m2.2 MB/s\u001b[0m eta \u001b[36m0:00:00\u001b[0m\n",
            "\u001b[?25hRequirement already satisfied: filelock in /usr/local/lib/python3.10/dist-packages (from datasets) (3.13.1)\n",
            "Requirement already satisfied: numpy>=1.17 in /usr/local/lib/python3.10/dist-packages (from datasets) (1.23.5)\n",
            "Requirement already satisfied: pyarrow>=8.0.0 in /usr/local/lib/python3.10/dist-packages (from datasets) (10.0.1)\n",
            "Collecting pyarrow-hotfix (from datasets)\n",
            "  Downloading pyarrow_hotfix-0.6-py3-none-any.whl (7.9 kB)\n",
            "Collecting dill<0.3.8,>=0.3.0 (from datasets)\n",
            "  Downloading dill-0.3.7-py3-none-any.whl (115 kB)\n",
            "\u001b[2K     \u001b[90m━━━━━━━━━━━━━━━━━━━━━━━━━━━━━━━━━━━━━━━━\u001b[0m \u001b[32m115.3/115.3 kB\u001b[0m \u001b[31m15.0 MB/s\u001b[0m eta \u001b[36m0:00:00\u001b[0m\n",
            "\u001b[?25hRequirement already satisfied: pandas in /usr/local/lib/python3.10/dist-packages (from datasets) (1.5.3)\n",
            "Requirement already satisfied: requests>=2.19.0 in /usr/local/lib/python3.10/dist-packages (from datasets) (2.31.0)\n",
            "Requirement already satisfied: tqdm>=4.62.1 in /usr/local/lib/python3.10/dist-packages (from datasets) (4.66.1)\n",
            "Requirement already satisfied: xxhash in /usr/local/lib/python3.10/dist-packages (from datasets) (3.4.1)\n",
            "Collecting multiprocess (from datasets)\n",
            "  Downloading multiprocess-0.70.15-py310-none-any.whl (134 kB)\n",
            "\u001b[2K     \u001b[90m━━━━━━━━━━━━━━━━━━━━━━━━━━━━━━━━━━━━━━━━\u001b[0m \u001b[32m134.8/134.8 kB\u001b[0m \u001b[31m18.0 MB/s\u001b[0m eta \u001b[36m0:00:00\u001b[0m\n",
            "\u001b[?25hRequirement already satisfied: fsspec[http]<=2023.10.0,>=2023.1.0 in /usr/local/lib/python3.10/dist-packages (from datasets) (2023.6.0)\n",
            "Requirement already satisfied: aiohttp in /usr/local/lib/python3.10/dist-packages (from datasets) (3.9.1)\n",
            "Requirement already satisfied: huggingface-hub>=0.19.4 in /usr/local/lib/python3.10/dist-packages (from datasets) (0.19.4)\n",
            "Requirement already satisfied: packaging in /usr/local/lib/python3.10/dist-packages (from datasets) (23.2)\n",
            "Requirement already satisfied: pyyaml>=5.1 in /usr/local/lib/python3.10/dist-packages (from datasets) (6.0.1)\n",
            "Requirement already satisfied: attrs>=17.3.0 in /usr/local/lib/python3.10/dist-packages (from aiohttp->datasets) (23.1.0)\n",
            "Requirement already satisfied: multidict<7.0,>=4.5 in /usr/local/lib/python3.10/dist-packages (from aiohttp->datasets) (6.0.4)\n",
            "Requirement already satisfied: yarl<2.0,>=1.0 in /usr/local/lib/python3.10/dist-packages (from aiohttp->datasets) (1.9.4)\n",
            "Requirement already satisfied: frozenlist>=1.1.1 in /usr/local/lib/python3.10/dist-packages (from aiohttp->datasets) (1.4.1)\n",
            "Requirement already satisfied: aiosignal>=1.1.2 in /usr/local/lib/python3.10/dist-packages (from aiohttp->datasets) (1.3.1)\n",
            "Requirement already satisfied: async-timeout<5.0,>=4.0 in /usr/local/lib/python3.10/dist-packages (from aiohttp->datasets) (4.0.3)\n",
            "Requirement already satisfied: typing-extensions>=3.7.4.3 in /usr/local/lib/python3.10/dist-packages (from huggingface-hub>=0.19.4->datasets) (4.5.0)\n",
            "Requirement already satisfied: charset-normalizer<4,>=2 in /usr/local/lib/python3.10/dist-packages (from requests>=2.19.0->datasets) (3.3.2)\n",
            "Requirement already satisfied: idna<4,>=2.5 in /usr/local/lib/python3.10/dist-packages (from requests>=2.19.0->datasets) (3.6)\n",
            "Requirement already satisfied: urllib3<3,>=1.21.1 in /usr/local/lib/python3.10/dist-packages (from requests>=2.19.0->datasets) (2.0.7)\n",
            "Requirement already satisfied: certifi>=2017.4.17 in /usr/local/lib/python3.10/dist-packages (from requests>=2.19.0->datasets) (2023.11.17)\n",
            "Requirement already satisfied: python-dateutil>=2.8.1 in /usr/local/lib/python3.10/dist-packages (from pandas->datasets) (2.8.2)\n",
            "Requirement already satisfied: pytz>=2020.1 in /usr/local/lib/python3.10/dist-packages (from pandas->datasets) (2023.3.post1)\n",
            "Requirement already satisfied: six>=1.5 in /usr/local/lib/python3.10/dist-packages (from python-dateutil>=2.8.1->pandas->datasets) (1.16.0)\n",
            "Installing collected packages: pyarrow-hotfix, dill, multiprocess, datasets\n",
            "Successfully installed datasets-2.16.1 dill-0.3.7 multiprocess-0.70.15 pyarrow-hotfix-0.6\n",
            "Collecting hexbytes\n",
            "  Downloading hexbytes-1.0.0-py3-none-any.whl (5.9 kB)\n",
            "Installing collected packages: hexbytes\n",
            "Successfully installed hexbytes-1.0.0\n"
          ]
        }
      ],
      "source": [
        "!pip install torchinfo\n",
        "!pip install datasets\n",
        "!pip install hexbytes"
      ]
    },
    {
      "cell_type": "code",
      "execution_count": 2,
      "metadata": {
        "id": "YnR1BlWMBl6X"
      },
      "outputs": [],
      "source": [
        "import torch\n",
        "import numpy as np\n",
        "import pandas as pd\n",
        "import math\n",
        "\n",
        "from PIL import Image\n",
        "from torch import nn\n",
        "from torch import optim\n",
        "from torchinfo import summary\n",
        "from datasets import load_dataset\n",
        "from torchvision import transforms, models\n",
        "from argparse import ArgumentParser\n",
        "from torch.utils.data import DataLoader\n",
        "from torch.nn.functional import normalize\n",
        "from sklearn.metrics import accuracy_score, f1_score, precision_score, recall_score\n",
        "from hexbytes import HexBytes\n",
        "from tqdm import tqdm"
      ]
    },
    {
      "cell_type": "code",
      "source": [
        "train_ds = load_dataset(\"mwritescode/slither-audited-smart-contracts\", 'big-multilabel', split='train', ignore_verifications=True)\n",
        "val_ds = load_dataset(\"mwritescode/slither-audited-smart-contracts\", 'big-multilabel', split='validation', ignore_verifications=True)\n"
      ],
      "metadata": {
        "colab": {
          "base_uri": "https://localhost:8080/"
        },
        "id": "uB2O64gIo47G",
        "outputId": "639408be-dc32-4374-bb38-7bc78e07ceef"
      },
      "execution_count": 20,
      "outputs": [
        {
          "output_type": "stream",
          "name": "stderr",
          "text": [
            "/usr/local/lib/python3.10/dist-packages/datasets/load.py:2491: FutureWarning: 'ignore_verifications' was deprecated in favor of 'verification_mode' in version 2.9.1 and will be removed in 3.0.0.\n",
            "You can remove this warning by passing 'verification_mode=no_checks' instead.\n",
            "  warnings.warn(\n",
            "/usr/local/lib/python3.10/dist-packages/datasets/load.py:1429: FutureWarning: The repository for mwritescode/slither-audited-smart-contracts contains custom code which must be executed to correctly load the dataset. You can inspect the repository content at https://hf.co/datasets/mwritescode/slither-audited-smart-contracts\n",
            "You can avoid this message in future by passing the argument `trust_remote_code=True`.\n",
            "Passing `trust_remote_code=True` will be mandatory to load this dataset from the next major release of `datasets`.\n",
            "  warnings.warn(\n"
          ]
        }
      ]
    },
    {
      "cell_type": "code",
      "source": [
        "train_ds = train_ds.filter(lambda elem: elem['bytecode'] != '0x')\n",
        "val_ds = val_ds.filter(lambda elem: elem['bytecode'] != '0x')"
      ],
      "metadata": {
        "id": "dBGs8ErUT1O6"
      },
      "execution_count": 21,
      "outputs": []
    },
    {
      "cell_type": "code",
      "source": [
        "SAFE_IDX = 4 # the index of safe smart contract\n",
        "\n",
        "def __get_RGB_image(bytecode):\n",
        "    image = np.frombuffer(bytecode, dtype=np.uint8)\n",
        "    length = int(math.ceil(len(image)/3))\n",
        "    image = np.pad(image, pad_width=(0, length*3 - len(image)))\n",
        "    image = image.reshape((-1, 3))\n",
        "    sqrt_len = int(math.ceil(math.sqrt(image.shape[0])))\n",
        "    image = np.pad(image,  pad_width=((0, sqrt_len**2 - image.shape[0]),(0,0)))\n",
        "    image = image.reshape((sqrt_len, sqrt_len, 3))\n",
        "    image = Image.fromarray(image)\n",
        "    return image\n",
        "\n",
        "def __get_one_hot_encoded_label(label):\n",
        "    one_hot = np.zeros(5)\n",
        "    for elem in label:\n",
        "        if elem < SAFE_IDX:\n",
        "            one_hot[elem] = 1\n",
        "        elif elem > SAFE_IDX:\n",
        "            one_hot[elem-1] = 1\n",
        "    return one_hot\n",
        "\n",
        "def generate_image_and_label(example):\n",
        "    code = HexBytes(example['bytecode'])\n",
        "    example['image'] = __get_RGB_image(code)\n",
        "    example['label'] = __get_one_hot_encoded_label(example['slither'])\n",
        "    return example"
      ],
      "metadata": {
        "id": "z281m517pU5z"
      },
      "execution_count": 22,
      "outputs": []
    },
    {
      "cell_type": "code",
      "source": [
        "map_func = generate_image_and_label\n",
        "train_ds = train_ds.map(map_func, remove_columns=['address', 'source_code', 'bytecode', 'slither'])\n",
        "val_ds = val_ds.map(map_func, remove_columns=['address', 'source_code', 'bytecode', 'slither'])"
      ],
      "metadata": {
        "id": "bQt60UoBo7Le"
      },
      "execution_count": 23,
      "outputs": []
    },
    {
      "cell_type": "code",
      "source": [
        "IMG_SIZE = 224\n",
        "\n",
        "IMAGENET_MEAN = [0.485, 0.456, 0.406]\n",
        "IMAGENET_STD = [0.229, 0.224, 0.225]\n",
        "\n",
        "img_transform = transforms.Compose([\n",
        "    transforms.Resize(IMG_SIZE),\n",
        "    transforms.CenterCrop(IMG_SIZE),\n",
        "    transforms.ToTensor(),\n",
        "    transforms.Normalize(mean=IMAGENET_MEAN, std=IMAGENET_STD),\n",
        "])"
      ],
      "metadata": {
        "id": "FpJlU3M0T1MG"
      },
      "execution_count": 24,
      "outputs": []
    },
    {
      "cell_type": "code",
      "source": [
        "def img_label_to_tensor(examples):\n",
        "    examples['image'] = [img_transform(elem) for elem in examples['image']]\n",
        "    examples['label'] = torch.tensor(examples['label'])\n",
        "    return examples"
      ],
      "metadata": {
        "id": "Qwh7A6WuUFSg"
      },
      "execution_count": 25,
      "outputs": []
    },
    {
      "cell_type": "code",
      "source": [
        "train_ds.set_transform(img_label_to_tensor)\n",
        "val_ds.set_transform(img_label_to_tensor)"
      ],
      "metadata": {
        "id": "oyyB04bgowA8"
      },
      "execution_count": 26,
      "outputs": []
    },
    {
      "cell_type": "code",
      "source": [
        "batch_size = 32\n",
        "\n",
        "loader_train = DataLoader(train_ds,\n",
        "                    batch_size=batch_size,\n",
        "                    drop_last=True,\n",
        "                    shuffle=True)\n",
        "loader_val = DataLoader(val_ds,\n",
        "                    batch_size=batch_size,\n",
        "                    drop_last=True,\n",
        "                    shuffle=False)"
      ],
      "metadata": {
        "id": "BEemwZ91ULtV"
      },
      "execution_count": 27,
      "outputs": []
    },
    {
      "cell_type": "code",
      "source": [
        "class ResNetModel(nn.Module):\n",
        "    def __init__(self, num_classes=5, classify=True):\n",
        "        super(ResNetModel, self).__init__()\n",
        "        self.resnet = models.resnet34(pretrained=True)\n",
        "\n",
        "        if classify:\n",
        "            self.resnet.fc = nn.Linear(512, num_classes)\n",
        "        else:\n",
        "            features = nn.ModuleList(self.resnet.children())[:-1]\n",
        "            self.resnet = nn.Sequential(*features).append(nn.Flatten())\n",
        "\n",
        "    def forward(self, inputs):\n",
        "        return self.resnet(inputs)\n",
        "\n",
        "    def get_layer_groups(self):\n",
        "        linear_layers = [elem[1] for elem in filter(lambda param_tuple: 'fc' in param_tuple[0], self.resnet.named_parameters())]\n",
        "        other_layers = [elem[1] for elem in filter(lambda param_tuple: 'fc' not in param_tuple[0], self.resnet.named_parameters())]\n",
        "        param_groups = {\n",
        "            'classifier': linear_layers,\n",
        "            'feature_extractor': other_layers\n",
        "        }\n",
        "        return param_groups"
      ],
      "metadata": {
        "id": "X2F5phn5pth7"
      },
      "execution_count": 28,
      "outputs": []
    },
    {
      "cell_type": "code",
      "source": [
        "num_cls = 5\n",
        "model_name = 'resnet'\n",
        "device = torch.device('cuda')\n",
        "\n",
        "model = ResNetModel(num_classes=num_cls)\n",
        "model = model.to(device)\n",
        "\n",
        "TRAIN_FROM_SCRATCH = False\n",
        "if not TRAIN_FROM_SCRATCH:\n",
        "    param_groups = model.get_layer_groups()\n",
        "    for param in param_groups['feature_extractor'][:-6]:\n",
        "        param.requires_grad = False\n",
        "summary(model)"
      ],
      "metadata": {
        "colab": {
          "base_uri": "https://localhost:8080/"
        },
        "id": "NUj9OeSqUH1q",
        "outputId": "6e9505e0-cfe7-459c-90c9-05ea632397ca"
      },
      "execution_count": 29,
      "outputs": [
        {
          "output_type": "stream",
          "name": "stderr",
          "text": [
            "/usr/local/lib/python3.10/dist-packages/torchvision/models/_utils.py:208: UserWarning: The parameter 'pretrained' is deprecated since 0.13 and may be removed in the future, please use 'weights' instead.\n",
            "  warnings.warn(\n",
            "/usr/local/lib/python3.10/dist-packages/torchvision/models/_utils.py:223: UserWarning: Arguments other than a weight enum or `None` for 'weights' are deprecated since 0.13 and may be removed in the future. The current behavior is equivalent to passing `weights=ResNet34_Weights.IMAGENET1K_V1`. You can also use `weights=ResNet34_Weights.DEFAULT` to get the most up-to-date weights.\n",
            "  warnings.warn(msg)\n",
            "Downloading: \"https://download.pytorch.org/models/resnet34-b627a593.pth\" to /root/.cache/torch/hub/checkpoints/resnet34-b627a593.pth\n",
            "100%|██████████| 83.3M/83.3M [00:00<00:00, 145MB/s]\n"
          ]
        },
        {
          "output_type": "execute_result",
          "data": {
            "text/plain": [
              "======================================================================\n",
              "Layer (type:depth-idx)                        Param #\n",
              "======================================================================\n",
              "ResNetModel                                   --\n",
              "├─ResNet: 1-1                                 --\n",
              "│    └─Conv2d: 2-1                            (9,408)\n",
              "│    └─BatchNorm2d: 2-2                       (128)\n",
              "│    └─ReLU: 2-3                              --\n",
              "│    └─MaxPool2d: 2-4                         --\n",
              "│    └─Sequential: 2-5                        --\n",
              "│    │    └─BasicBlock: 3-1                   (73,984)\n",
              "│    │    └─BasicBlock: 3-2                   (73,984)\n",
              "│    │    └─BasicBlock: 3-3                   (73,984)\n",
              "│    └─Sequential: 2-6                        --\n",
              "│    │    └─BasicBlock: 3-4                   (230,144)\n",
              "│    │    └─BasicBlock: 3-5                   (295,424)\n",
              "│    │    └─BasicBlock: 3-6                   (295,424)\n",
              "│    │    └─BasicBlock: 3-7                   (295,424)\n",
              "│    └─Sequential: 2-7                        --\n",
              "│    │    └─BasicBlock: 3-8                   (919,040)\n",
              "│    │    └─BasicBlock: 3-9                   (1,180,672)\n",
              "│    │    └─BasicBlock: 3-10                  (1,180,672)\n",
              "│    │    └─BasicBlock: 3-11                  (1,180,672)\n",
              "│    │    └─BasicBlock: 3-12                  (1,180,672)\n",
              "│    │    └─BasicBlock: 3-13                  (1,180,672)\n",
              "│    └─Sequential: 2-8                        --\n",
              "│    │    └─BasicBlock: 3-14                  (3,673,088)\n",
              "│    │    └─BasicBlock: 3-15                  (4,720,640)\n",
              "│    │    └─BasicBlock: 3-16                  4,720,640\n",
              "│    └─AdaptiveAvgPool2d: 2-9                 --\n",
              "│    └─Linear: 2-10                           2,565\n",
              "======================================================================\n",
              "Total params: 21,287,237\n",
              "Trainable params: 4,723,205\n",
              "Non-trainable params: 16,564,032\n",
              "======================================================================"
            ]
          },
          "metadata": {},
          "execution_count": 29
        }
      ]
    },
    {
      "cell_type": "code",
      "source": [
        "optimizer = optim.SGD(\n",
        "    model.parameters(),\n",
        "    lr=0.001,\n",
        "    momentum=0.9,\n",
        "    nesterov=True)\n",
        "criterion = nn.BCEWithLogitsLoss()"
      ],
      "metadata": {
        "id": "qLr2DyAeUN5T"
      },
      "execution_count": 30,
      "outputs": []
    },
    {
      "cell_type": "code",
      "source": [
        "def initialize_logs_dict(loader_train, loader_val):\n",
        "    metrics = {'acc': accuracy_score, 'f1_score': f1_score, 'precision': precision_score, 'recall': recall_score}\n",
        "    logs = {\n",
        "        'epoch_num': 0,\n",
        "        'train_batches_per_epoch': len(loader_train),\n",
        "        'val_batches_per_epoch': len(loader_val) if loader_val is not None else None,\n",
        "        'train': {'loss': 0.0, 'predictions': [], 'labels': [], 'batch_idx': 0},\n",
        "        'val': {'loss': 0.0, 'predictions': [], 'labels': [], 'batch_idx': 0},\n",
        "        'metrics': {'train_acc': 0.0} | {'val_' + metric: 0.0 for metric in metrics.keys()}\n",
        "    }\n",
        "    return logs\n",
        "\n",
        "def run_epoch(model, criterion, optimizer, data_loader, device, mode, logs):\n",
        "    model.train() if mode == 'train' else model.eval()\n",
        "    metrics = None\n",
        "    if mode == 'val':\n",
        "        metrics = {'acc': accuracy_score, 'f1_score': f1_score, 'precision': precision_score, 'recall': recall_score}\n",
        "    else:\n",
        "        metrics = {'acc': accuracy_score}\n",
        "\n",
        "    total_loss = 0.0\n",
        "    running_metrics = {metric: 0.0 for metric in metrics.keys()}\n",
        "    pbar = tqdm(data_loader, desc=f'{mode.capitalize()}ing...')\n",
        "\n",
        "    for data in pbar:\n",
        "        images, labels = data['image'].to(device), data['label'].to(device)\n",
        "\n",
        "        with torch.set_grad_enabled(mode == 'train'):\n",
        "            outputs = model(images)\n",
        "            loss = criterion(outputs, labels)\n",
        "            total_loss += loss.item()\n",
        "\n",
        "            preds = (outputs >= 0.0).float()\n",
        "            logs[mode]['predictions'] += preds.tolist()\n",
        "            logs[mode]['labels'] += labels.tolist()\n",
        "            logs[f'{mode}_loss'] = total_loss / (logs[mode]['batch_idx'] + 1)\n",
        "\n",
        "            for metric_name, metric_func in metrics.items():\n",
        "                if metric_name == 'acc':\n",
        "                    running_metrics[metric_name] += metric_func(labels.tolist(), preds.tolist())\n",
        "                else:\n",
        "                    running_metrics[metric_name] += metric_func(labels.tolist(), preds.tolist(), average='micro')\n",
        "                logs['metrics'][mode + '_' + metric_name] = running_metrics[metric_name] / (logs[mode]['batch_idx'] + 1)\n",
        "\n",
        "            logs[mode]['batch_idx'] += 1\n",
        "            pbar.set_postfix({'loss': logs[f'{mode}_loss'], **{metric_name: logs['metrics'][mode + '_' + metric_name] for metric_name in metrics.keys()}})\n",
        "\n",
        "            if mode == 'train':\n",
        "                optimizer.zero_grad()\n",
        "                loss.backward()\n",
        "                optimizer.step()\n",
        "\n",
        "def main_training_loop(model, criterion, optimizer, loader_train, loader_val, device, epochs):\n",
        "    history = {}\n",
        "    # combine logs, so it will be easier to create graphs\n",
        "    for epoch in range(epochs):\n",
        "        print(f'Epoch {epoch}:')\n",
        "        logs = initialize_logs_dict(loader_train, loader_val)\n",
        "        logs['epoch_num'] = epoch\n",
        "\n",
        "        run_epoch(model, criterion, optimizer, loader_train, device, 'train', logs)\n",
        "        run_epoch(model, criterion, optimizer, loader_val, device, 'val', logs)\n",
        "\n",
        "        print('train_loss: {:.4f} | val_loss: {:.4f} |'.format(logs['train_loss'], logs['val_loss']), end=' ')\n",
        "        print(\" | \".join(['{}: {:.4f}'.format(metric_name, metric_val) for metric_name, metric_val in logs['metrics'].items()]), end='\\n\\n')\n",
        "        history[epoch] = logs\n",
        "    return history\n"
      ],
      "metadata": {
        "id": "zQtbX8AGtMzf"
      },
      "execution_count": 31,
      "outputs": []
    },
    {
      "cell_type": "code",
      "source": [
        "epochs = 12\n",
        "history = main_training_loop(model, criterion, optimizer, loader_train, loader_val, device, epochs)"
      ],
      "metadata": {
        "colab": {
          "base_uri": "https://localhost:8080/"
        },
        "id": "igxZXkfTUbJo",
        "outputId": "cbf8d551-6aaf-4b20-925e-90f6287b4d95"
      },
      "execution_count": 32,
      "outputs": [
        {
          "output_type": "stream",
          "name": "stdout",
          "text": [
            "Epoch 0:\n"
          ]
        },
        {
          "output_type": "stream",
          "name": "stderr",
          "text": [
            "Training...: 100%|██████████| 2481/2481 [04:45<00:00,  8.68it/s, loss=0.445, acc=0.42]\n",
            "Valing...: 100%|██████████| 338/338 [00:40<00:00,  8.40it/s, loss=0.414, acc=0.464, f1_score=0.605, precision=0.721, recall=0.527]\n"
          ]
        },
        {
          "output_type": "stream",
          "name": "stdout",
          "text": [
            "train_loss: 0.4454 | val_loss: 0.4142 | train_acc: 0.4203 | val_acc: 0.4641 | val_f1_score: 0.6045 | val_precision: 0.7207 | val_recall: 0.5272\n",
            "\n",
            "Epoch 1:\n"
          ]
        },
        {
          "output_type": "stream",
          "name": "stderr",
          "text": [
            "Training...: 100%|██████████| 2481/2481 [04:48<00:00,  8.59it/s, loss=0.41, acc=0.468]\n",
            "Valing...: 100%|██████████| 338/338 [00:40<00:00,  8.36it/s, loss=0.396, acc=0.478, f1_score=0.633, precision=0.728, recall=0.566]\n"
          ]
        },
        {
          "output_type": "stream",
          "name": "stdout",
          "text": [
            "train_loss: 0.4104 | val_loss: 0.3962 | train_acc: 0.4680 | val_acc: 0.4779 | val_f1_score: 0.6325 | val_precision: 0.7277 | val_recall: 0.5658\n",
            "\n",
            "Epoch 2:\n"
          ]
        },
        {
          "output_type": "stream",
          "name": "stderr",
          "text": [
            "Training...: 100%|██████████| 2481/2481 [04:48<00:00,  8.61it/s, loss=0.393, acc=0.486]\n",
            "Valing...: 100%|██████████| 338/338 [00:40<00:00,  8.37it/s, loss=0.382, acc=0.491, f1_score=0.646, precision=0.737, recall=0.581]\n"
          ]
        },
        {
          "output_type": "stream",
          "name": "stdout",
          "text": [
            "train_loss: 0.3931 | val_loss: 0.3819 | train_acc: 0.4855 | val_acc: 0.4908 | val_f1_score: 0.6455 | val_precision: 0.7365 | val_recall: 0.5811\n",
            "\n",
            "Epoch 3:\n"
          ]
        },
        {
          "output_type": "stream",
          "name": "stderr",
          "text": [
            "Training...: 100%|██████████| 2481/2481 [04:48<00:00,  8.61it/s, loss=0.38, acc=0.502]\n",
            "Valing...: 100%|██████████| 338/338 [00:40<00:00,  8.40it/s, loss=0.37, acc=0.51, f1_score=0.656, precision=0.759, recall=0.584]\n"
          ]
        },
        {
          "output_type": "stream",
          "name": "stdout",
          "text": [
            "train_loss: 0.3802 | val_loss: 0.3704 | train_acc: 0.5016 | val_acc: 0.5104 | val_f1_score: 0.6561 | val_precision: 0.7587 | val_recall: 0.5844\n",
            "\n",
            "Epoch 4:\n"
          ]
        },
        {
          "output_type": "stream",
          "name": "stderr",
          "text": [
            "Training...: 100%|██████████| 2481/2481 [04:47<00:00,  8.62it/s, loss=0.37, acc=0.514]\n",
            "Valing...: 100%|██████████| 338/338 [00:40<00:00,  8.38it/s, loss=0.363, acc=0.522, f1_score=0.668, precision=0.756, recall=0.605]\n"
          ]
        },
        {
          "output_type": "stream",
          "name": "stdout",
          "text": [
            "train_loss: 0.3698 | val_loss: 0.3629 | train_acc: 0.5138 | val_acc: 0.5216 | val_f1_score: 0.6685 | val_precision: 0.7564 | val_recall: 0.6050\n",
            "\n",
            "Epoch 5:\n"
          ]
        },
        {
          "output_type": "stream",
          "name": "stderr",
          "text": [
            "Training...: 100%|██████████| 2481/2481 [04:47<00:00,  8.62it/s, loss=0.36, acc=0.523]\n",
            "Valing...: 100%|██████████| 338/338 [00:39<00:00,  8.46it/s, loss=0.356, acc=0.53, f1_score=0.667, precision=0.775, recall=0.591]\n"
          ]
        },
        {
          "output_type": "stream",
          "name": "stdout",
          "text": [
            "train_loss: 0.3601 | val_loss: 0.3559 | train_acc: 0.5232 | val_acc: 0.5298 | val_f1_score: 0.6669 | val_precision: 0.7754 | val_recall: 0.5913\n",
            "\n",
            "Epoch 6:\n"
          ]
        },
        {
          "output_type": "stream",
          "name": "stderr",
          "text": [
            "Training...: 100%|██████████| 2481/2481 [04:47<00:00,  8.63it/s, loss=0.351, acc=0.535]\n",
            "Valing...: 100%|██████████| 338/338 [00:40<00:00,  8.27it/s, loss=0.351, acc=0.537, f1_score=0.684, precision=0.759, recall=0.628]\n"
          ]
        },
        {
          "output_type": "stream",
          "name": "stdout",
          "text": [
            "train_loss: 0.3514 | val_loss: 0.3509 | train_acc: 0.5350 | val_acc: 0.5371 | val_f1_score: 0.6835 | val_precision: 0.7590 | val_recall: 0.6282\n",
            "\n",
            "Epoch 7:\n"
          ]
        },
        {
          "output_type": "stream",
          "name": "stderr",
          "text": [
            "Training...: 100%|██████████| 2481/2481 [04:53<00:00,  8.44it/s, loss=0.344, acc=0.543]\n",
            "Valing...: 100%|██████████| 338/338 [00:41<00:00,  8.19it/s, loss=0.346, acc=0.54, f1_score=0.682, precision=0.769, recall=0.619]\n"
          ]
        },
        {
          "output_type": "stream",
          "name": "stdout",
          "text": [
            "train_loss: 0.3444 | val_loss: 0.3463 | train_acc: 0.5428 | val_acc: 0.5401 | val_f1_score: 0.6820 | val_precision: 0.7686 | val_recall: 0.6193\n",
            "\n",
            "Epoch 8:\n"
          ]
        },
        {
          "output_type": "stream",
          "name": "stderr",
          "text": [
            "Training...: 100%|██████████| 2481/2481 [04:51<00:00,  8.52it/s, loss=0.336, acc=0.552]\n",
            "Valing...: 100%|██████████| 338/338 [00:41<00:00,  8.19it/s, loss=0.342, acc=0.549, f1_score=0.692, precision=0.764, recall=0.638]\n"
          ]
        },
        {
          "output_type": "stream",
          "name": "stdout",
          "text": [
            "train_loss: 0.3360 | val_loss: 0.3419 | train_acc: 0.5521 | val_acc: 0.5487 | val_f1_score: 0.6917 | val_precision: 0.7640 | val_recall: 0.6383\n",
            "\n",
            "Epoch 9:\n"
          ]
        },
        {
          "output_type": "stream",
          "name": "stderr",
          "text": [
            "Training...: 100%|██████████| 2481/2481 [04:46<00:00,  8.66it/s, loss=0.329, acc=0.56]\n",
            "Valing...: 100%|██████████| 338/338 [00:40<00:00,  8.39it/s, loss=0.337, acc=0.56, f1_score=0.692, precision=0.785, recall=0.624]\n"
          ]
        },
        {
          "output_type": "stream",
          "name": "stdout",
          "text": [
            "train_loss: 0.3288 | val_loss: 0.3372 | train_acc: 0.5604 | val_acc: 0.5604 | val_f1_score: 0.6916 | val_precision: 0.7853 | val_recall: 0.6238\n",
            "\n",
            "Epoch 10:\n"
          ]
        },
        {
          "output_type": "stream",
          "name": "stderr",
          "text": [
            "Training...: 100%|██████████| 2481/2481 [04:46<00:00,  8.67it/s, loss=0.322, acc=0.567]\n",
            "Valing...: 100%|██████████| 338/338 [00:40<00:00,  8.36it/s, loss=0.334, acc=0.561, f1_score=0.705, precision=0.762, recall=0.662]\n"
          ]
        },
        {
          "output_type": "stream",
          "name": "stdout",
          "text": [
            "train_loss: 0.3224 | val_loss: 0.3344 | train_acc: 0.5670 | val_acc: 0.5615 | val_f1_score: 0.7051 | val_precision: 0.7620 | val_recall: 0.6624\n",
            "\n",
            "Epoch 11:\n"
          ]
        },
        {
          "output_type": "stream",
          "name": "stderr",
          "text": [
            "Training...: 100%|██████████| 2481/2481 [04:46<00:00,  8.66it/s, loss=0.315, acc=0.575]\n",
            "Valing...: 100%|██████████| 338/338 [00:40<00:00,  8.41it/s, loss=0.333, acc=0.569, f1_score=0.7, precision=0.785, recall=0.639]"
          ]
        },
        {
          "output_type": "stream",
          "name": "stdout",
          "text": [
            "train_loss: 0.3150 | val_loss: 0.3327 | train_acc: 0.5754 | val_acc: 0.5690 | val_f1_score: 0.7004 | val_precision: 0.7848 | val_recall: 0.6386\n",
            "\n"
          ]
        },
        {
          "output_type": "stream",
          "name": "stderr",
          "text": [
            "\n"
          ]
        }
      ]
    },
    {
      "cell_type": "code",
      "execution_count": 33,
      "metadata": {
        "id": "BebWlEtK4R4M"
      },
      "outputs": [],
      "source": [
        "torch.save(model.state_dict(), 'model2.pt')"
      ]
    },
    {
      "cell_type": "code",
      "source": [
        "# Create a new modified dictionary without keys \"labels\" and \"prediction\"\n",
        "metrics_history = {key: {k: v for k, v in inner_dict.items() if k not in ['train', 'val']} for key, inner_dict in history.items()}"
      ],
      "metadata": {
        "id": "3nI8DEXVFpss"
      },
      "execution_count": 34,
      "outputs": []
    },
    {
      "cell_type": "code",
      "source": [
        "metrics_history"
      ],
      "metadata": {
        "colab": {
          "base_uri": "https://localhost:8080/"
        },
        "id": "yLouF4U-vtb7",
        "outputId": "8d412c47-ac4a-458d-e189-51c1f02525e8"
      },
      "execution_count": 35,
      "outputs": [
        {
          "output_type": "execute_result",
          "data": {
            "text/plain": [
              "{0: {'epoch_num': 0,\n",
              "  'train_batches_per_epoch': 2481,\n",
              "  'val_batches_per_epoch': 338,\n",
              "  'metrics': {'train_acc': 0.4202816404675534,\n",
              "   'val_acc': 0.46412721893491127,\n",
              "   'val_f1_score': 0.6045430910039441,\n",
              "   'val_precision': 0.7207432508970331,\n",
              "   'val_recall': 0.52723277299307},\n",
              "  'train_loss': 0.445433095163609,\n",
              "  'val_loss': 0.41416967655780046},\n",
              " 1: {'epoch_num': 1,\n",
              "  'train_batches_per_epoch': 2481,\n",
              "  'val_batches_per_epoch': 338,\n",
              "  'metrics': {'train_acc': 0.4680194478033051,\n",
              "   'val_acc': 0.47790310650887574,\n",
              "   'val_f1_score': 0.6325308858713306,\n",
              "   'val_precision': 0.7277251368375267,\n",
              "   'val_recall': 0.5657920382939168},\n",
              "  'train_loss': 0.4104017069482938,\n",
              "  'val_loss': 0.3961755399256063},\n",
              " 2: {'epoch_num': 2,\n",
              "  'train_batches_per_epoch': 2481,\n",
              "  'val_batches_per_epoch': 338,\n",
              "  'metrics': {'train_acc': 0.48554010479645304,\n",
              "   'val_acc': 0.4907544378698225,\n",
              "   'val_f1_score': 0.6455216810202348,\n",
              "   'val_precision': 0.7365193578459639,\n",
              "   'val_recall': 0.5811304150162463},\n",
              "  'train_loss': 0.3931088310331166,\n",
              "  'val_loss': 0.38187352506190364},\n",
              " 3: {'epoch_num': 3,\n",
              "  'train_batches_per_epoch': 2481,\n",
              "  'val_batches_per_epoch': 338,\n",
              "  'metrics': {'train_acc': 0.5015996573962112,\n",
              "   'val_acc': 0.5103550295857988,\n",
              "   'val_f1_score': 0.656076952886514,\n",
              "   'val_precision': 0.7586900567146118,\n",
              "   'val_recall': 0.5843877504433288},\n",
              "  'train_loss': 0.380175385148186,\n",
              "  'val_loss': 0.370409309511354},\n",
              " 4: {'epoch_num': 4,\n",
              "  'train_batches_per_epoch': 2481,\n",
              "  'val_batches_per_epoch': 338,\n",
              "  'metrics': {'train_acc': 0.5138175130995566,\n",
              "   'val_acc': 0.5216346153846154,\n",
              "   'val_f1_score': 0.6684968776183009,\n",
              "   'val_precision': 0.7564392712353732,\n",
              "   'val_recall': 0.6050081775306096},\n",
              "  'train_loss': 0.36979280528715663,\n",
              "  'val_loss': 0.36285390687235713},\n",
              " 5: {'epoch_num': 5,\n",
              "  'train_batches_per_epoch': 2481,\n",
              "  'val_batches_per_epoch': 338,\n",
              "  'metrics': {'train_acc': 0.5232013301088271,\n",
              "   'val_acc': 0.5297707100591716,\n",
              "   'val_f1_score': 0.6668545355135984,\n",
              "   'val_precision': 0.7753920955216718,\n",
              "   'val_recall': 0.5912825098285582},\n",
              "  'train_loss': 0.3600515786172497,\n",
              "  'val_loss': 0.35585907829054714},\n",
              " 6: {'epoch_num': 6,\n",
              "  'train_batches_per_epoch': 2481,\n",
              "  'val_batches_per_epoch': 338,\n",
              "  'metrics': {'train_acc': 0.5350035268037082,\n",
              "   'val_acc': 0.5370747041420119,\n",
              "   'val_f1_score': 0.6835033859133499,\n",
              "   'val_precision': 0.7589635932353036,\n",
              "   'val_recall': 0.6282320143861975},\n",
              "  'train_loss': 0.35139999708933295,\n",
              "  'val_loss': 0.3509262962895032},\n",
              " 7: {'epoch_num': 7,\n",
              "  'train_batches_per_epoch': 2481,\n",
              "  'val_batches_per_epoch': 338,\n",
              "  'metrics': {'train_acc': 0.5428128778718259,\n",
              "   'val_acc': 0.5401257396449705,\n",
              "   'val_f1_score': 0.6819624111587881,\n",
              "   'val_precision': 0.7685722067260851,\n",
              "   'val_recall': 0.61928855838639},\n",
              "  'train_loss': 0.3443753626355237,\n",
              "  'val_loss': 0.34628950742751186},\n",
              " 8: {'epoch_num': 8,\n",
              "  'train_batches_per_epoch': 2481,\n",
              "  'val_batches_per_epoch': 338,\n",
              "  'metrics': {'train_acc': 0.5521337162434502,\n",
              "   'val_acc': 0.5487241124260355,\n",
              "   'val_f1_score': 0.6916926760725993,\n",
              "   'val_precision': 0.7640437100354313,\n",
              "   'val_recall': 0.638313707024535},\n",
              "  'train_loss': 0.33597647166574063,\n",
              "  'val_loss': 0.3418741367713234},\n",
              " 9: {'epoch_num': 9,\n",
              "  'train_batches_per_epoch': 2481,\n",
              "  'val_batches_per_epoch': 338,\n",
              "  'metrics': {'train_acc': 0.5604343006852076,\n",
              "   'val_acc': 0.5603735207100592,\n",
              "   'val_f1_score': 0.6915924417145749,\n",
              "   'val_precision': 0.7852912828590503,\n",
              "   'val_recall': 0.623767651333655},\n",
              "  'train_loss': 0.3287743129878215,\n",
              "  'val_loss': 0.33716149116761585},\n",
              " 10: {'epoch_num': 10,\n",
              "  'train_batches_per_epoch': 2481,\n",
              "  'val_batches_per_epoch': 338,\n",
              "  'metrics': {'train_acc': 0.5669966747279322,\n",
              "   'val_acc': 0.5614829881656804,\n",
              "   'val_f1_score': 0.7051282862282714,\n",
              "   'val_precision': 0.7619560403976772,\n",
              "   'val_recall': 0.6624199382449681},\n",
              "  'train_loss': 0.3223630476266999,\n",
              "  'val_loss': 0.33440671208694844},\n",
              " 11: {'epoch_num': 11,\n",
              "  'train_batches_per_epoch': 2481,\n",
              "  'val_batches_per_epoch': 338,\n",
              "  'metrics': {'train_acc': 0.575372833534865,\n",
              "   'val_acc': 0.5689718934911243,\n",
              "   'val_f1_score': 0.7003851306211718,\n",
              "   'val_precision': 0.7848381232472875,\n",
              "   'val_recall': 0.638598684059634},\n",
              "  'train_loss': 0.3150078683178639,\n",
              "  'val_loss': 0.3327177104777133}}"
            ]
          },
          "metadata": {},
          "execution_count": 35
        }
      ]
    },
    {
      "cell_type": "code",
      "source": [
        "import matplotlib.pyplot as plt\n",
        "\n",
        "data = metrics_history\n",
        "\n",
        "epochs = [entry['epoch_num'] for entry in data.values()]\n",
        "train_acc = [entry['metrics']['train_acc'] for entry in data.values()]\n",
        "val_acc = [entry['metrics']['val_acc'] for entry in data.values()]\n",
        "val_f1_score = [entry['metrics']['val_f1_score'] for entry in data.values()]\n",
        "val_precision = [entry['metrics']['val_precision'] for entry in data.values()]\n",
        "val_recall = [entry['metrics']['val_recall'] for entry in data.values()]\n",
        "\n",
        "train_loss = [entry['train_loss']  for entry in data.values()]\n",
        "val_loss = [entry['val_loss'] for entry in data.values()]\n",
        "\n",
        "# Plotting Accuracy\n",
        "plt.figure(figsize=(12, 6))\n",
        "plt.subplot(1, 2, 1)\n",
        "plt.plot(epochs, train_acc, label='Train Accuracy', marker='o')\n",
        "plt.plot(epochs, val_acc, label='Validation Accuracy', marker='o')\n",
        "plt.plot(epochs, val_f1_score, label='Validation F1 Score', marker='o')\n",
        "plt.plot(epochs, val_precision, label='Validation Precision', marker='o')\n",
        "plt.plot(epochs, val_recall, label='Validation Recall', marker='o')\n",
        "plt.title('Metrics Over Epochs')\n",
        "plt.xlabel('Epochs')\n",
        "plt.ylabel('metrics')\n",
        "plt.legend()\n",
        "plt.grid(True)\n",
        "\n",
        "# Plotting Loss\n",
        "plt.subplot(1, 2, 2)\n",
        "plt.plot(epochs, train_loss, label='Train Loss', marker='o')\n",
        "plt.plot(epochs, val_loss, label='Validation Loss', marker='o')\n",
        "plt.title('Loss Over Epochs')\n",
        "plt.xlabel('Epochs')\n",
        "plt.ylabel('Loss')\n",
        "plt.legend()\n",
        "plt.grid(True)\n",
        "\n",
        "plt.tight_layout()\n",
        "plt.show()"
      ],
      "metadata": {
        "colab": {
          "base_uri": "https://localhost:8080/",
          "height": 341
        },
        "id": "vImDIDE3Ni6u",
        "outputId": "32a27466-412f-437b-bc32-e0e6bd028e6b"
      },
      "execution_count": 36,
      "outputs": [
        {
          "output_type": "display_data",
          "data": {
            "text/plain": [
              "<Figure size 1200x600 with 2 Axes>"
            ],
            "image/png": "[encoded data removed]"
          },
          "metadata": {}
        }
      ]
    },
    {
      "cell_type": "code",
      "source": [],
      "metadata": {
        "id": "dDeftWYFO2vA"
      },
      "execution_count": null,
      "outputs": []
    }
  ],
  "metadata": {
    "accelerator": "GPU",
    "colab": {
      "provenance": [],
      "gpuType": "T4"
    },
    "kernelspec": {
      "display_name": "Python 3",
      "name": "python3"
    },
    "language_info": {
      "name": "python"
    }
  },
  "nbformat": 4,
  "nbformat_minor": 0
}