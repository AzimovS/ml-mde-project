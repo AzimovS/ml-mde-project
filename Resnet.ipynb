{
  "cells": [
    {
      "cell_type": "code",
      "execution_count": 1,
      "metadata": {
        "colab": {
          "base_uri": "https://localhost:8080/"
        },
        "id": "_RRCh_kzCKBk",
        "outputId": "4a2d97e0-d7d1-44f2-fcf2-5f31aeecabd2"
      },
      "outputs": [
        {
          "output_type": "stream",
          "name": "stdout",
          "text": [
            "Collecting torchinfo\n",
            "  Downloading torchinfo-1.8.0-py3-none-any.whl (23 kB)\n",
            "Installing collected packages: torchinfo\n",
            "Successfully installed torchinfo-1.8.0\n",
            "Collecting datasets\n",
            "  Downloading datasets-2.16.0-py3-none-any.whl (507 kB)\n",
            "\u001b[2K     \u001b[90m━━━━━━━━━━━━━━━━━━━━━━━━━━━━━━━━━━━━━━━━\u001b[0m \u001b[32m507.1/507.1 kB\u001b[0m \u001b[31m3.3 MB/s\u001b[0m eta \u001b[36m0:00:00\u001b[0m\n",
            "\u001b[?25hRequirement already satisfied: filelock in /usr/local/lib/python3.10/dist-packages (from datasets) (3.13.1)\n",
            "Requirement already satisfied: numpy>=1.17 in /usr/local/lib/python3.10/dist-packages (from datasets) (1.23.5)\n",
            "Requirement already satisfied: pyarrow>=8.0.0 in /usr/local/lib/python3.10/dist-packages (from datasets) (10.0.1)\n",
            "Collecting pyarrow-hotfix (from datasets)\n",
            "  Downloading pyarrow_hotfix-0.6-py3-none-any.whl (7.9 kB)\n",
            "Collecting dill<0.3.8,>=0.3.0 (from datasets)\n",
            "  Downloading dill-0.3.7-py3-none-any.whl (115 kB)\n",
            "\u001b[2K     \u001b[90m━━━━━━━━━━━━━━━━━━━━━━━━━━━━━━━━━━━━━━━━\u001b[0m \u001b[32m115.3/115.3 kB\u001b[0m \u001b[31m6.5 MB/s\u001b[0m eta \u001b[36m0:00:00\u001b[0m\n",
            "\u001b[?25hRequirement already satisfied: pandas in /usr/local/lib/python3.10/dist-packages (from datasets) (1.5.3)\n",
            "Requirement already satisfied: requests>=2.19.0 in /usr/local/lib/python3.10/dist-packages (from datasets) (2.31.0)\n",
            "Requirement already satisfied: tqdm>=4.62.1 in /usr/local/lib/python3.10/dist-packages (from datasets) (4.66.1)\n",
            "Requirement already satisfied: xxhash in /usr/local/lib/python3.10/dist-packages (from datasets) (3.4.1)\n",
            "Collecting multiprocess (from datasets)\n",
            "  Downloading multiprocess-0.70.15-py310-none-any.whl (134 kB)\n",
            "\u001b[2K     \u001b[90m━━━━━━━━━━━━━━━━━━━━━━━━━━━━━━━━━━━━━━━━\u001b[0m \u001b[32m134.8/134.8 kB\u001b[0m \u001b[31m11.3 MB/s\u001b[0m eta \u001b[36m0:00:00\u001b[0m\n",
            "\u001b[?25hRequirement already satisfied: fsspec[http]<=2023.10.0,>=2023.1.0 in /usr/local/lib/python3.10/dist-packages (from datasets) (2023.6.0)\n",
            "Requirement already satisfied: aiohttp in /usr/local/lib/python3.10/dist-packages (from datasets) (3.9.1)\n",
            "Requirement already satisfied: huggingface-hub>=0.19.4 in /usr/local/lib/python3.10/dist-packages (from datasets) (0.19.4)\n",
            "Requirement already satisfied: packaging in /usr/local/lib/python3.10/dist-packages (from datasets) (23.2)\n",
            "Requirement already satisfied: pyyaml>=5.1 in /usr/local/lib/python3.10/dist-packages (from datasets) (6.0.1)\n",
            "Requirement already satisfied: attrs>=17.3.0 in /usr/local/lib/python3.10/dist-packages (from aiohttp->datasets) (23.1.0)\n",
            "Requirement already satisfied: multidict<7.0,>=4.5 in /usr/local/lib/python3.10/dist-packages (from aiohttp->datasets) (6.0.4)\n",
            "Requirement already satisfied: yarl<2.0,>=1.0 in /usr/local/lib/python3.10/dist-packages (from aiohttp->datasets) (1.9.4)\n",
            "Requirement already satisfied: frozenlist>=1.1.1 in /usr/local/lib/python3.10/dist-packages (from aiohttp->datasets) (1.4.1)\n",
            "Requirement already satisfied: aiosignal>=1.1.2 in /usr/local/lib/python3.10/dist-packages (from aiohttp->datasets) (1.3.1)\n",
            "Requirement already satisfied: async-timeout<5.0,>=4.0 in /usr/local/lib/python3.10/dist-packages (from aiohttp->datasets) (4.0.3)\n",
            "Requirement already satisfied: typing-extensions>=3.7.4.3 in /usr/local/lib/python3.10/dist-packages (from huggingface-hub>=0.19.4->datasets) (4.5.0)\n",
            "Requirement already satisfied: charset-normalizer<4,>=2 in /usr/local/lib/python3.10/dist-packages (from requests>=2.19.0->datasets) (3.3.2)\n",
            "Requirement already satisfied: idna<4,>=2.5 in /usr/local/lib/python3.10/dist-packages (from requests>=2.19.0->datasets) (3.6)\n",
            "Requirement already satisfied: urllib3<3,>=1.21.1 in /usr/local/lib/python3.10/dist-packages (from requests>=2.19.0->datasets) (2.0.7)\n",
            "Requirement already satisfied: certifi>=2017.4.17 in /usr/local/lib/python3.10/dist-packages (from requests>=2.19.0->datasets) (2023.11.17)\n",
            "Requirement already satisfied: python-dateutil>=2.8.1 in /usr/local/lib/python3.10/dist-packages (from pandas->datasets) (2.8.2)\n",
            "Requirement already satisfied: pytz>=2020.1 in /usr/local/lib/python3.10/dist-packages (from pandas->datasets) (2023.3.post1)\n",
            "Requirement already satisfied: six>=1.5 in /usr/local/lib/python3.10/dist-packages (from python-dateutil>=2.8.1->pandas->datasets) (1.16.0)\n",
            "Installing collected packages: pyarrow-hotfix, dill, multiprocess, datasets\n",
            "Successfully installed datasets-2.16.0 dill-0.3.7 multiprocess-0.70.15 pyarrow-hotfix-0.6\n",
            "Collecting hexbytes\n",
            "  Downloading hexbytes-1.0.0-py3-none-any.whl (5.9 kB)\n",
            "Installing collected packages: hexbytes\n",
            "Successfully installed hexbytes-1.0.0\n"
          ]
        }
      ],
      "source": [
        "!pip install torchinfo\n",
        "!pip install datasets\n",
        "!pip install hexbytes"
      ]
    },
    {
      "cell_type": "code",
      "execution_count": 2,
      "metadata": {
        "id": "YnR1BlWMBl6X"
      },
      "outputs": [],
      "source": [
        "import torch\n",
        "import numpy as np\n",
        "import pandas as pd\n",
        "import math\n",
        "\n",
        "from PIL import Image\n",
        "from torch import nn\n",
        "from torch import optim\n",
        "from torchinfo import summary\n",
        "from datasets import load_dataset\n",
        "from torchvision import transforms, models\n",
        "from argparse import ArgumentParser\n",
        "from torch.utils.data import DataLoader\n",
        "from torch.nn.functional import normalize\n",
        "from sklearn.metrics import accuracy_score, f1_score, precision_score, recall_score\n",
        "from hexbytes import HexBytes\n",
        "from tqdm import tqdm"
      ]
    },
    {
      "cell_type": "code",
      "source": [
        "train_ds = load_dataset(\"mwritescode/slither-audited-smart-contracts\", 'big-multilabel', split='train', ignore_verifications=True)\n",
        "val_ds = load_dataset(\"mwritescode/slither-audited-smart-contracts\", 'big-multilabel', split='validation', ignore_verifications=True)\n"
      ],
      "metadata": {
        "colab": {
          "base_uri": "https://localhost:8080/"
        },
        "id": "uB2O64gIo47G",
        "outputId": "a7d98453-f214-4cb7-993a-7b544e05ed3a"
      },
      "execution_count": 25,
      "outputs": [
        {
          "output_type": "stream",
          "name": "stderr",
          "text": [
            "/usr/local/lib/python3.10/dist-packages/datasets/load.py:2487: FutureWarning: 'ignore_verifications' was deprecated in favor of 'verification_mode' in version 2.9.1 and will be removed in 3.0.0.\n",
            "You can remove this warning by passing 'verification_mode=no_checks' instead.\n",
            "  warnings.warn(\n",
            "/usr/local/lib/python3.10/dist-packages/datasets/load.py:1429: FutureWarning: The repository for mwritescode/slither-audited-smart-contracts contains custom code which must be executed to correctly load the dataset. You can inspect the repository content at https://hf.co/datasets/mwritescode/slither-audited-smart-contracts\n",
            "You can avoid this message in future by passing the argument `trust_remote_code=True`.\n",
            "Passing `trust_remote_code=True` will be mandatory to load this dataset from the next major release of `datasets`.\n",
            "  warnings.warn(\n"
          ]
        }
      ]
    },
    {
      "cell_type": "code",
      "source": [
        "train_ds = train_ds.filter(lambda elem: elem['bytecode'] != '0x')\n",
        "val_ds = val_ds.filter(lambda elem: elem['bytecode'] != '0x')"
      ],
      "metadata": {
        "id": "dBGs8ErUT1O6"
      },
      "execution_count": 26,
      "outputs": []
    },
    {
      "cell_type": "code",
      "source": [
        "SAFE_IDX = 4 # the index of safe smart contract\n",
        "\n",
        "def __get_RGB_image(bytecode):\n",
        "    image = np.frombuffer(bytecode, dtype=np.uint8)\n",
        "    length = int(math.ceil(len(image)/3))\n",
        "    image = np.pad(image, pad_width=(0, length*3 - len(image)))\n",
        "    image = image.reshape((-1, 3))\n",
        "    sqrt_len = int(math.ceil(math.sqrt(image.shape[0])))\n",
        "    image = np.pad(image,  pad_width=((0, sqrt_len**2 - image.shape[0]),(0,0)))\n",
        "    image = image.reshape((sqrt_len, sqrt_len, 3))\n",
        "    image = Image.fromarray(image)\n",
        "    return image\n",
        "\n",
        "def __get_one_hot_encoded_label(label):\n",
        "    one_hot = np.zeros(5)\n",
        "    for elem in label:\n",
        "        if elem < SAFE_IDX:\n",
        "            one_hot[elem] = 1\n",
        "        elif elem > SAFE_IDX:\n",
        "            one_hot[elem-1] = 1\n",
        "    return one_hot\n",
        "\n",
        "def generate_image_and_label(example):\n",
        "    code = HexBytes(example['bytecode'])\n",
        "    example['image'] = __get_RGB_image(code)\n",
        "    example['label'] = __get_one_hot_encoded_label(example['slither'])\n",
        "    return example"
      ],
      "metadata": {
        "id": "z281m517pU5z"
      },
      "execution_count": 27,
      "outputs": []
    },
    {
      "cell_type": "code",
      "source": [
        "map_func = generate_image_and_label\n",
        "train_ds = train_ds.map(map_func, remove_columns=['address', 'source_code', 'bytecode', 'slither'])\n",
        "val_ds = val_ds.map(map_func, remove_columns=['address', 'source_code', 'bytecode', 'slither'])"
      ],
      "metadata": {
        "id": "bQt60UoBo7Le"
      },
      "execution_count": 28,
      "outputs": []
    },
    {
      "cell_type": "code",
      "source": [
        "class GetMeanStd:\n",
        "    \"\"\"\n",
        "    Inspired by the implementation of https://github.com/Nikronic/CoarseNet/blob/master/utils/preprocess.py#L142-L200\n",
        "    \"\"\"\n",
        "    def __init__(self, dataset, batch_size, img_size):\n",
        "        self.img_transform =transforms.Compose([\n",
        "        transforms.Resize(img_size),\n",
        "        transforms.CenterCrop(img_size),\n",
        "        transforms.ToTensor()])\n",
        "\n",
        "        dataset.set_transform(self.__to_tensor)\n",
        "        self.data_loader = DataLoader(dataset=dataset,\n",
        "                            batch_size=batch_size,\n",
        "                            shuffle=False,\n",
        "                            num_workers=0,\n",
        "                            pin_memory=0)\n",
        "\n",
        "    def __to_tensor(self, examples):\n",
        "        examples['image'] = [self.img_transform(elem) for elem in examples['image']]\n",
        "        return examples\n",
        "\n",
        "    def __call__(self):\n",
        "        mean = 0.\n",
        "        std = 0.\n",
        "        nb_samples = 0.\n",
        "        for data in tqdm(self.data_loader, desc='Computing stats..'):\n",
        "            data = data['image']\n",
        "            batch_samples = data.size(0)\n",
        "            data = data.view(batch_samples, data.size(1), -1)\n",
        "            mean += data.mean(2).sum(0)\n",
        "            std += data.std(2).sum(0)\n",
        "            nb_samples += batch_samples\n",
        "\n",
        "        mean /= nb_samples\n",
        "        std /= nb_samples\n",
        "\n",
        "        return mean, std"
      ],
      "metadata": {
        "id": "d-YPy28jqOvR"
      },
      "execution_count": 29,
      "outputs": []
    },
    {
      "cell_type": "code",
      "source": [
        "max_len = 512\n",
        "\n",
        "img_size = 224\n",
        "\n",
        "IMAGENET_MEAN = [0.485, 0.456, 0.406]\n",
        "IMAGENET_STD = [0.229, 0.224, 0.225]\n",
        "\n",
        "# get_stats = GetMeanStd(train_ds, batch_size=16, img_size=img_size)\n",
        "# mean, std = get_stats()\n",
        "\n",
        "img_transform = transforms.Compose([\n",
        "    transforms.Resize(img_size),\n",
        "    transforms.CenterCrop(img_size),\n",
        "    transforms.ToTensor(),\n",
        "    transforms.Normalize(mean=IMAGENET_MEAN, std=IMAGENET_STD),\n",
        "])"
      ],
      "metadata": {
        "id": "FpJlU3M0T1MG"
      },
      "execution_count": 30,
      "outputs": []
    },
    {
      "cell_type": "code",
      "source": [
        "def img_label_to_tensor(examples):\n",
        "    if 'image' in examples.keys():\n",
        "        examples['image'] = [img_transform(elem) for elem in examples['image']]\n",
        "    if 'label' in examples.keys():\n",
        "        examples['label'] = torch.tensor(examples['label'])\n",
        "    return examples"
      ],
      "metadata": {
        "id": "Qwh7A6WuUFSg"
      },
      "execution_count": 31,
      "outputs": []
    },
    {
      "cell_type": "code",
      "source": [
        "train_ds.set_transform(img_label_to_tensor)\n",
        "val_ds.set_transform(img_label_to_tensor)"
      ],
      "metadata": {
        "id": "oyyB04bgowA8"
      },
      "execution_count": 32,
      "outputs": []
    },
    {
      "cell_type": "code",
      "source": [
        "batch_size = 32\n",
        "\n",
        "loader_train = DataLoader(train_ds,\n",
        "                    batch_size=batch_size,\n",
        "                    drop_last=True,\n",
        "                    shuffle=True)\n",
        "loader_val = DataLoader(val_ds,\n",
        "                    batch_size=batch_size,\n",
        "                    drop_last=True,\n",
        "                    shuffle=False)"
      ],
      "metadata": {
        "id": "BEemwZ91ULtV"
      },
      "execution_count": 33,
      "outputs": []
    },
    {
      "cell_type": "code",
      "source": [
        "class ResNetModel(nn.Module):\n",
        "    def __init__(self, num_classes=5, classify=True):\n",
        "        super(ResNetModel, self).__init__()\n",
        "        self.resnet = models.resnet18(pretrained=True)\n",
        "\n",
        "        if classify:\n",
        "            self.resnet.fc = nn.Linear(512, num_classes)\n",
        "        else:\n",
        "            features = nn.ModuleList(self.resnet.children())[:-1]\n",
        "            self.resnet = nn.Sequential(*features).append(nn.Flatten())\n",
        "\n",
        "    def forward(self, inputs):\n",
        "        return self.resnet(inputs)\n",
        "\n",
        "    def get_layer_groups(self):\n",
        "        linear_layers = [elem[1] for elem in filter(lambda param_tuple: 'fc' in param_tuple[0], self.resnet.named_parameters())]\n",
        "        other_layers = [elem[1] for elem in filter(lambda param_tuple: 'fc' not in param_tuple[0], self.resnet.named_parameters())]\n",
        "        param_groups = {\n",
        "            'classifier': linear_layers,\n",
        "            'feature_extractor': other_layers\n",
        "        }\n",
        "        return param_groups"
      ],
      "metadata": {
        "id": "X2F5phn5pth7"
      },
      "execution_count": 34,
      "outputs": []
    },
    {
      "cell_type": "code",
      "source": [
        "whitelist_weight_modules = (torch.nn.Linear, torch.nn.Conv1d, torch.nn.Conv2d, nn.LSTM)\n",
        "blacklist_weight_modules = (torch.nn.LayerNorm, torch.nn.BatchNorm1d, torch.nn.BatchNorm2d, nn.Embedding)\n",
        "\n",
        "def get_weight_decay_params(model):\n",
        "    \"\"\" Adapted from the implementation at https://github.com/karpathy/minGPT/blob/3ed14b2cec0dfdad3f4b2831f2b4a86d11aef150/mingpt/model.py#L136\"\"\"\n",
        "    decay = set()\n",
        "    no_decay = set()\n",
        "    for module_name, module in model.named_modules():\n",
        "        for param_name, _ in module.named_parameters():\n",
        "            fpn = '%s.%s' % (module_name, param_name) if module_name else param_name # full param name\n",
        "\n",
        "            if 'bias' in param_name:\n",
        "                # all biases will not be decayed\n",
        "                no_decay.add(fpn)\n",
        "            elif 'weight' in param_name and isinstance(module, whitelist_weight_modules):\n",
        "                # weights of whitelist modules will be weight decayed\n",
        "                decay.add(fpn)\n",
        "            elif 'weight' in param_name and isinstance(module, blacklist_weight_modules):\n",
        "                # weights of blacklist modules will NOT be weight decayed\n",
        "                no_decay.add(fpn)\n",
        "\n",
        "    # validate that we considered every parameter\n",
        "    param_dict = {pn: p for pn, p in model.named_parameters()}\n",
        "    inter_params = decay & no_decay\n",
        "    union_params = decay | no_decay\n",
        "    assert len(inter_params) == 0, \"parameters %s made it into both decay/no_decay sets!\" % (str(inter_params), )\n",
        "    assert len(param_dict.keys() - union_params) == 0, \"parameters %s were not separated into either decay/no_decay set!\" \\\n",
        "                                                % (str(param_dict.keys() - union_params), )\n",
        "\n",
        "    decay =  [param_dict[pn] for pn in sorted(list(decay))]\n",
        "    no_decay =  [param_dict[pn] for pn in sorted(list(no_decay))]\n",
        "\n",
        "    return decay, no_decay"
      ],
      "metadata": {
        "id": "7imwP2kITzE8"
      },
      "execution_count": 35,
      "outputs": []
    },
    {
      "cell_type": "code",
      "source": [
        "# metrics = {'acc': accuracy_score}\n",
        "\n",
        "\n",
        "def initialize_logs_dict(loader_train, loader_val):\n",
        "    metrics = {'acc': accuracy_score, 'f1_score': f1_score, 'precision': precision_score, 'recall': recall_score}\n",
        "    logs = {\n",
        "        'epoch_num': 0,\n",
        "        'train_batches_per_epoch': len(loader_train),\n",
        "        'val_batches_per_epoch': len(loader_val) if loader_val is not None else None,\n",
        "        'train': {'loss': 0.0, 'predictions': [], 'labels': [], 'batch_idx': 0},\n",
        "        'val': {'loss': 0.0, 'predictions': [], 'labels': [], 'batch_idx': 0},\n",
        "        'metrics': {'train_acc': 0.0} | {'val_' + metric: 0.0 for metric in metrics.keys()}\n",
        "    }\n",
        "    return logs\n",
        "\n",
        "def run_epoch(model, criterion, optimizer, data_loader, device, mode, logs):\n",
        "    model.train() if mode == 'train' else model.eval()\n",
        "    metrics = None\n",
        "    if mode == 'val':\n",
        "        metrics = {'acc': accuracy_score, 'f1_score': f1_score, 'precision': precision_score, 'recall': recall_score}\n",
        "    else:\n",
        "        metrics = {'acc': accuracy_score}\n",
        "\n",
        "    total_loss = 0.0\n",
        "    running_metrics = {metric: 0.0 for metric in metrics.keys()}\n",
        "    pbar = tqdm(data_loader, desc=f'{mode.capitalize()}ing...')\n",
        "\n",
        "    for data in pbar:\n",
        "        images, labels = data['image'].to(device), data['label'].to(device)\n",
        "\n",
        "        with torch.set_grad_enabled(mode == 'train'):\n",
        "            outputs = model(images)\n",
        "            loss = criterion(outputs, labels)\n",
        "            total_loss += loss.item()\n",
        "\n",
        "            preds = (outputs >= 0.0).float()\n",
        "            logs[mode]['predictions'] += preds.tolist()\n",
        "            logs[mode]['labels'] += labels.tolist()\n",
        "            logs[f'{mode}_loss'] = total_loss / (logs[mode]['batch_idx'] + 1)\n",
        "\n",
        "            for metric_name, metric_func in metrics.items():\n",
        "                if metric_name == 'acc':\n",
        "                    running_metrics[metric_name] += metric_func(labels.tolist(), preds.tolist())\n",
        "                else:\n",
        "                    running_metrics[metric_name] += metric_func(labels.tolist(), preds.tolist(), average='micro')\n",
        "                logs['metrics'][mode + '_' + metric_name] = running_metrics[metric_name] / (logs[mode]['batch_idx'] + 1)\n",
        "\n",
        "            logs[mode]['batch_idx'] += 1\n",
        "            pbar.set_postfix({'loss': logs[f'{mode}_loss'], **{metric_name: logs['metrics'][mode + '_' + metric_name] for metric_name in metrics.keys()}})\n",
        "\n",
        "            if mode == 'train':\n",
        "                optimizer.zero_grad()\n",
        "                loss.backward()\n",
        "                optimizer.step()\n",
        "\n",
        "def main_training_loop(model, criterion, optimizer, loader_train, loader_val, device, epochs):\n",
        "    history = {}\n",
        "    # combine logs, so it will be easier to create graphs\n",
        "    for epoch in range(epochs):\n",
        "        print(f'Epoch {epoch}:')\n",
        "        logs = initialize_logs_dict(loader_train, loader_val)\n",
        "        logs['epoch_num'] = epoch\n",
        "\n",
        "        run_epoch(model, criterion, optimizer, loader_train, device, 'train', logs)\n",
        "        run_epoch(model, criterion, optimizer, loader_val, device, 'val', logs)\n",
        "\n",
        "        print('train_loss: {:.4f} | val_loss: {:.4f} |'.format(logs['train_loss'], logs['val_loss']), end=' ')\n",
        "        print(\" | \".join(['{}: {:.4f}'.format(metric_name, metric_val) for metric_name, metric_val in logs['metrics'].items()]), end='\\n\\n')\n",
        "        history[epoch] = logs\n",
        "    return history\n"
      ],
      "metadata": {
        "id": "zQtbX8AGtMzf"
      },
      "execution_count": 36,
      "outputs": []
    },
    {
      "cell_type": "code",
      "source": [
        "pos_weights = None\n",
        "\n",
        "num_cls = 5\n",
        "model_name = 'resnet'\n",
        "device = torch.device('cuda')\n",
        "\n",
        "model = ResNetModel(num_classes=num_cls)\n",
        "model = model.to(device)\n",
        "\n",
        "TRAIN_FROM_SCRATCH = False\n",
        "if not TRAIN_FROM_SCRATCH:\n",
        "    param_groups = model.get_layer_groups()\n",
        "    for param in param_groups['feature_extractor'][:-6]:\n",
        "        param.requires_grad = False\n",
        "summary(model)"
      ],
      "metadata": {
        "colab": {
          "base_uri": "https://localhost:8080/"
        },
        "id": "NUj9OeSqUH1q",
        "outputId": "9ef80209-d835-4eb3-fbfd-9bbc8713be10"
      },
      "execution_count": 37,
      "outputs": [
        {
          "output_type": "stream",
          "name": "stderr",
          "text": [
            "/usr/local/lib/python3.10/dist-packages/torchvision/models/_utils.py:208: UserWarning: The parameter 'pretrained' is deprecated since 0.13 and may be removed in the future, please use 'weights' instead.\n",
            "  warnings.warn(\n",
            "/usr/local/lib/python3.10/dist-packages/torchvision/models/_utils.py:223: UserWarning: Arguments other than a weight enum or `None` for 'weights' are deprecated since 0.13 and may be removed in the future. The current behavior is equivalent to passing `weights=ResNet18_Weights.IMAGENET1K_V1`. You can also use `weights=ResNet18_Weights.DEFAULT` to get the most up-to-date weights.\n",
            "  warnings.warn(msg)\n"
          ]
        },
        {
          "output_type": "execute_result",
          "data": {
            "text/plain": [
              "======================================================================\n",
              "Layer (type:depth-idx)                        Param #\n",
              "======================================================================\n",
              "ResNetModel                                   --\n",
              "├─ResNet: 1-1                                 --\n",
              "│    └─Conv2d: 2-1                            (9,408)\n",
              "│    └─BatchNorm2d: 2-2                       (128)\n",
              "│    └─ReLU: 2-3                              --\n",
              "│    └─MaxPool2d: 2-4                         --\n",
              "│    └─Sequential: 2-5                        --\n",
              "│    │    └─BasicBlock: 3-1                   (73,984)\n",
              "│    │    └─BasicBlock: 3-2                   (73,984)\n",
              "│    └─Sequential: 2-6                        --\n",
              "│    │    └─BasicBlock: 3-3                   (230,144)\n",
              "│    │    └─BasicBlock: 3-4                   (295,424)\n",
              "│    └─Sequential: 2-7                        --\n",
              "│    │    └─BasicBlock: 3-5                   (919,040)\n",
              "│    │    └─BasicBlock: 3-6                   (1,180,672)\n",
              "│    └─Sequential: 2-8                        --\n",
              "│    │    └─BasicBlock: 3-7                   (3,673,088)\n",
              "│    │    └─BasicBlock: 3-8                   4,720,640\n",
              "│    └─AdaptiveAvgPool2d: 2-9                 --\n",
              "│    └─Linear: 2-10                           2,565\n",
              "======================================================================\n",
              "Total params: 11,179,077\n",
              "Trainable params: 4,723,205\n",
              "Non-trainable params: 6,455,872\n",
              "======================================================================"
            ]
          },
          "metadata": {},
          "execution_count": 37
        }
      ]
    },
    {
      "cell_type": "code",
      "source": [
        "decay, no_decay = get_weight_decay_params(model)\n",
        "optim_groups = [\n",
        "    {'params': decay, 'weight_decay': 0.0001},\n",
        "    {'params': no_decay, 'weight_decay': 0.0}\n",
        "]\n",
        "\n",
        "optimizer = optim.SGD(\n",
        "    optim_groups,\n",
        "    lr=0.001,\n",
        "    momentum=0.9,\n",
        "    nesterov=True)\n",
        "criterion = nn.BCEWithLogitsLoss(pos_weight=pos_weights)"
      ],
      "metadata": {
        "id": "qLr2DyAeUN5T"
      },
      "execution_count": 38,
      "outputs": []
    },
    {
      "cell_type": "code",
      "source": [
        "epochs = 12\n",
        "history = main_training_loop(model, criterion, optimizer, loader_train, loader_val, device, epochs)"
      ],
      "metadata": {
        "colab": {
          "base_uri": "https://localhost:8080/"
        },
        "id": "igxZXkfTUbJo",
        "outputId": "d72f2f2c-a616-4b37-f269-cdbd768595dd"
      },
      "execution_count": 39,
      "outputs": [
        {
          "metadata": {
            "tags": null
          },
          "name": "stdout",
          "output_type": "stream",
          "text": [
            "Epoch 0:\n"
          ]
        },
        {
          "metadata": {
            "tags": null
          },
          "name": "stderr",
          "output_type": "stream",
          "text": [
            "Training...: 100%|██████████| 2481/2481 [04:05<00:00, 10.10it/s, loss=0.442, acc=0.422]\n",
            "Valing...: 100%|██████████| 338/338 [00:39<00:00,  8.62it/s, loss=0.407, acc=0.471, f1_score=0.601, precision=0.734, recall=0.516]\n"
          ]
        },
        {
          "metadata": {
            "tags": null
          },
          "name": "stdout",
          "output_type": "stream",
          "text": [
            "train_loss: 0.4423 | val_loss: 0.4073 | train_acc: 0.4219 | val_acc: 0.4711 | val_f1_score: 0.6009 | val_precision: 0.7340 | val_recall: 0.5162\n",
            "\n",
            "Epoch 1:\n"
          ]
        },
        {
          "metadata": {
            "tags": null
          },
          "name": "stderr",
          "output_type": "stream",
          "text": [
            "Training...: 100%|██████████| 2481/2481 [04:07<00:00, 10.02it/s, loss=0.402, acc=0.476]\n",
            "Valing...: 100%|██████████| 338/338 [00:36<00:00,  9.16it/s, loss=0.385, acc=0.493, f1_score=0.634, precision=0.743, recall=0.56]\n"
          ]
        },
        {
          "metadata": {
            "tags": null
          },
          "name": "stdout",
          "output_type": "stream",
          "text": [
            "train_loss: 0.4015 | val_loss: 0.3853 | train_acc: 0.4762 | val_acc: 0.4934 | val_f1_score: 0.6336 | val_precision: 0.7434 | val_recall: 0.5595\n",
            "\n",
            "Epoch 2:\n"
          ]
        },
        {
          "metadata": {
            "tags": null
          },
          "name": "stderr",
          "output_type": "stream",
          "text": [
            "Training...: 100%|██████████| 2481/2481 [03:58<00:00, 10.41it/s, loss=0.383, acc=0.497]\n",
            "Valing...: 100%|██████████| 338/338 [00:36<00:00,  9.17it/s, loss=0.371, acc=0.519, f1_score=0.641, precision=0.783, recall=0.549]\n"
          ]
        },
        {
          "metadata": {
            "tags": null
          },
          "name": "stdout",
          "output_type": "stream",
          "text": [
            "train_loss: 0.3827 | val_loss: 0.3707 | train_acc: 0.4972 | val_acc: 0.5186 | val_f1_score: 0.6405 | val_precision: 0.7831 | val_recall: 0.5487\n",
            "\n",
            "Epoch 3:\n"
          ]
        },
        {
          "output_type": "stream",
          "name": "stderr",
          "text": [
            "Training...: 100%|██████████| 2481/2481 [03:56<00:00, 10.47it/s, loss=0.368, acc=0.514]\n",
            "Valing...: 100%|██████████| 338/338 [00:36<00:00,  9.16it/s, loss=0.36, acc=0.532, f1_score=0.671, precision=0.753, recall=0.613]\n"
          ]
        },
        {
          "output_type": "stream",
          "name": "stdout",
          "text": [
            "train_loss: 0.3683 | val_loss: 0.3602 | train_acc: 0.5142 | val_acc: 0.5320 | val_f1_score: 0.6713 | val_precision: 0.7529 | val_recall: 0.6128\n",
            "\n",
            "Epoch 4:\n"
          ]
        },
        {
          "output_type": "stream",
          "name": "stderr",
          "text": [
            "Training...: 100%|██████████| 2481/2481 [03:55<00:00, 10.56it/s, loss=0.356, acc=0.527]\n",
            "Valing...: 100%|██████████| 338/338 [00:36<00:00,  9.20it/s, loss=0.355, acc=0.532, f1_score=0.678, precision=0.75, recall=0.625]\n"
          ]
        },
        {
          "output_type": "stream",
          "name": "stdout",
          "text": [
            "train_loss: 0.3561 | val_loss: 0.3550 | train_acc: 0.5274 | val_acc: 0.5322 | val_f1_score: 0.6775 | val_precision: 0.7504 | val_recall: 0.6248\n",
            "\n",
            "Epoch 5:\n"
          ]
        },
        {
          "output_type": "stream",
          "name": "stderr",
          "text": [
            "Training...: 100%|██████████| 2481/2481 [03:56<00:00, 10.48it/s, loss=0.346, acc=0.539]\n",
            "Valing...: 100%|██████████| 338/338 [00:36<00:00,  9.17it/s, loss=0.346, acc=0.553, f1_score=0.682, precision=0.779, recall=0.613]\n"
          ]
        },
        {
          "output_type": "stream",
          "name": "stdout",
          "text": [
            "train_loss: 0.3462 | val_loss: 0.3456 | train_acc: 0.5393 | val_acc: 0.5526 | val_f1_score: 0.6819 | val_precision: 0.7793 | val_recall: 0.6129\n",
            "\n",
            "Epoch 6:\n"
          ]
        },
        {
          "output_type": "stream",
          "name": "stderr",
          "text": [
            "Training...: 100%|██████████| 2481/2481 [03:56<00:00, 10.49it/s, loss=0.335, acc=0.552]\n",
            "Valing...: 100%|██████████| 338/338 [00:36<00:00,  9.23it/s, loss=0.34, acc=0.556, f1_score=0.688, precision=0.777, recall=0.624]\n"
          ]
        },
        {
          "output_type": "stream",
          "name": "stdout",
          "text": [
            "train_loss: 0.3350 | val_loss: 0.3405 | train_acc: 0.5522 | val_acc: 0.5565 | val_f1_score: 0.6878 | val_precision: 0.7773 | val_recall: 0.6239\n",
            "\n",
            "Epoch 7:\n"
          ]
        },
        {
          "output_type": "stream",
          "name": "stderr",
          "text": [
            "Training...: 100%|██████████| 2481/2481 [03:57<00:00, 10.46it/s, loss=0.325, acc=0.562]\n",
            "Valing...: 100%|██████████| 338/338 [00:36<00:00,  9.19it/s, loss=0.336, acc=0.567, f1_score=0.692, precision=0.788, recall=0.624]\n"
          ]
        },
        {
          "output_type": "stream",
          "name": "stdout",
          "text": [
            "train_loss: 0.3252 | val_loss: 0.3359 | train_acc: 0.5621 | val_acc: 0.5668 | val_f1_score: 0.6924 | val_precision: 0.7885 | val_recall: 0.6238\n",
            "\n",
            "Epoch 8:\n"
          ]
        },
        {
          "output_type": "stream",
          "name": "stderr",
          "text": [
            "Training...: 100%|██████████| 2481/2481 [04:05<00:00, 10.13it/s, loss=0.316, acc=0.572]\n",
            "Valing...: 100%|██████████| 338/338 [00:37<00:00,  9.13it/s, loss=0.333, acc=0.572, f1_score=0.702, precision=0.778, recall=0.647]\n"
          ]
        },
        {
          "output_type": "stream",
          "name": "stdout",
          "text": [
            "train_loss: 0.3158 | val_loss: 0.3326 | train_acc: 0.5723 | val_acc: 0.5717 | val_f1_score: 0.7024 | val_precision: 0.7780 | val_recall: 0.6468\n",
            "\n",
            "Epoch 9:\n"
          ]
        },
        {
          "output_type": "stream",
          "name": "stderr",
          "text": [
            "Training...: 100%|██████████| 2481/2481 [03:58<00:00, 10.42it/s, loss=0.307, acc=0.584]\n",
            "Valing...: 100%|██████████| 338/338 [00:37<00:00,  8.98it/s, loss=0.329, acc=0.576, f1_score=0.713, precision=0.764, recall=0.674]\n"
          ]
        },
        {
          "output_type": "stream",
          "name": "stdout",
          "text": [
            "train_loss: 0.3071 | val_loss: 0.3294 | train_acc: 0.5838 | val_acc: 0.5765 | val_f1_score: 0.7127 | val_precision: 0.7642 | val_recall: 0.6742\n",
            "\n",
            "Epoch 10:\n"
          ]
        },
        {
          "output_type": "stream",
          "name": "stderr",
          "text": [
            "Training...: 100%|██████████| 2481/2481 [04:00<00:00, 10.32it/s, loss=0.299, acc=0.593]\n",
            "Valing...: 100%|██████████| 338/338 [00:36<00:00,  9.14it/s, loss=0.328, acc=0.58, f1_score=0.707, precision=0.792, recall=0.644]\n"
          ]
        },
        {
          "output_type": "stream",
          "name": "stdout",
          "text": [
            "train_loss: 0.2989 | val_loss: 0.3277 | train_acc: 0.5925 | val_acc: 0.5803 | val_f1_score: 0.7066 | val_precision: 0.7919 | val_recall: 0.6445\n",
            "\n",
            "Epoch 11:\n"
          ]
        },
        {
          "output_type": "stream",
          "name": "stderr",
          "text": [
            "Training...: 100%|██████████| 2481/2481 [03:58<00:00, 10.41it/s, loss=0.288, acc=0.603]\n",
            "Valing...: 100%|██████████| 338/338 [00:37<00:00,  9.08it/s, loss=0.324, acc=0.588, f1_score=0.712, precision=0.792, recall=0.652]"
          ]
        },
        {
          "output_type": "stream",
          "name": "stdout",
          "text": [
            "train_loss: 0.2885 | val_loss: 0.3241 | train_acc: 0.6032 | val_acc: 0.5881 | val_f1_score: 0.7116 | val_precision: 0.7924 | val_recall: 0.6521\n",
            "\n"
          ]
        },
        {
          "output_type": "stream",
          "name": "stderr",
          "text": [
            "\n"
          ]
        }
      ]
    },
    {
      "cell_type": "code",
      "execution_count": 40,
      "metadata": {
        "id": "BebWlEtK4R4M"
      },
      "outputs": [],
      "source": [
        "torch.save(model.state_dict(), 'model1}.pt')"
      ]
    },
    {
      "cell_type": "code",
      "source": [
        "# Create a new modified dictionary without keys \"labels\" and \"prediction\"\n",
        "metrics_history = {key: {k: v for k, v in inner_dict.items() if k not in ['train', 'val']} for key, inner_dict in history.items()}"
      ],
      "metadata": {
        "id": "3nI8DEXVFpss"
      },
      "execution_count": 41,
      "outputs": []
    },
    {
      "cell_type": "code",
      "source": [
        "metrics_history"
      ],
      "metadata": {
        "colab": {
          "base_uri": "https://localhost:8080/"
        },
        "id": "yLouF4U-vtb7",
        "outputId": "c639a082-036a-494c-f510-068d06f5cdc3"
      },
      "execution_count": 42,
      "outputs": [
        {
          "output_type": "execute_result",
          "data": {
            "text/plain": [
              "{0: {'epoch_num': 0,\n",
              "  'train_batches_per_epoch': 2481,\n",
              "  'val_batches_per_epoch': 338,\n",
              "  'metrics': {'train_acc': 0.4218687021362354,\n",
              "   'val_acc': 0.47106139053254437,\n",
              "   'val_f1_score': 0.6009429896562174,\n",
              "   'val_precision': 0.7340417961957533,\n",
              "   'val_recall': 0.5161542743026141},\n",
              "  'train_loss': 0.4423351152704301,\n",
              "  'val_loss': 0.40734442826029815},\n",
              " 1: {'epoch_num': 1,\n",
              "  'train_batches_per_epoch': 2481,\n",
              "  'val_batches_per_epoch': 338,\n",
              "  'metrics': {'train_acc': 0.4761688835147118,\n",
              "   'val_acc': 0.49343565088757396,\n",
              "   'val_f1_score': 0.6336447383899906,\n",
              "   'val_precision': 0.7433711746186059,\n",
              "   'val_recall': 0.5595388357204839},\n",
              "  'train_loss': 0.4015497766414125,\n",
              "  'val_loss': 0.3852739091631929},\n",
              " 2: {'epoch_num': 2,\n",
              "  'train_batches_per_epoch': 2481,\n",
              "  'val_batches_per_epoch': 338,\n",
              "  'metrics': {'train_acc': 0.49717855703345426,\n",
              "   'val_acc': 0.5185835798816568,\n",
              "   'val_f1_score': 0.6405483770355869,\n",
              "   'val_precision': 0.7831101998171611,\n",
              "   'val_recall': 0.548723472642575},\n",
              "  'train_loss': 0.3826541998714557,\n",
              "  'val_loss': 0.37071712231318626},\n",
              " 3: {'epoch_num': 3,\n",
              "  'train_batches_per_epoch': 2481,\n",
              "  'val_batches_per_epoch': 338,\n",
              "  'metrics': {'train_acc': 0.5142205763804918,\n",
              "   'val_acc': 0.5319896449704142,\n",
              "   'val_f1_score': 0.6712821984792239,\n",
              "   'val_precision': 0.7529410129893047,\n",
              "   'val_recall': 0.6128237823521743},\n",
              "  'train_loss': 0.3682635266218201,\n",
              "  'val_loss': 0.3602406391377985},\n",
              " 4: {'epoch_num': 4,\n",
              "  'train_batches_per_epoch': 2481,\n",
              "  'val_batches_per_epoch': 338,\n",
              "  'metrics': {'train_acc': 0.5274083031035872,\n",
              "   'val_acc': 0.5321745562130178,\n",
              "   'val_f1_score': 0.677502344993715,\n",
              "   'val_precision': 0.7503610218506583,\n",
              "   'val_recall': 0.6247510379149769},\n",
              "  'train_loss': 0.3561497524662971,\n",
              "  'val_loss': 0.35499898035674404},\n",
              " 5: {'epoch_num': 5,\n",
              "  'train_batches_per_epoch': 2481,\n",
              "  'val_batches_per_epoch': 338,\n",
              "  'metrics': {'train_acc': 0.5392986698911729,\n",
              "   'val_acc': 0.5526072485207101,\n",
              "   'val_f1_score': 0.6818762014837719,\n",
              "   'val_precision': 0.779307355233501,\n",
              "   'val_recall': 0.6129310015431788},\n",
              "  'train_loss': 0.3461672899668758,\n",
              "  'val_loss': 0.3456423652948007},\n",
              " 6: {'epoch_num': 6,\n",
              "  'train_batches_per_epoch': 2481,\n",
              "  'val_batches_per_epoch': 338,\n",
              "  'metrics': {'train_acc': 0.5522470777912132,\n",
              "   'val_acc': 0.5564903846153846,\n",
              "   'val_f1_score': 0.6877983108464248,\n",
              "   'val_precision': 0.7772684195115207,\n",
              "   'val_recall': 0.6238891207473117},\n",
              "  'train_loss': 0.3349649388371625,\n",
              "  'val_loss': 0.3404643095632982},\n",
              " 7: {'epoch_num': 7,\n",
              "  'train_batches_per_epoch': 2481,\n",
              "  'val_batches_per_epoch': 338,\n",
              "  'metrics': {'train_acc': 0.5620717452640065,\n",
              "   'val_acc': 0.5668454142011834,\n",
              "   'val_f1_score': 0.6923830683079967,\n",
              "   'val_precision': 0.7884686119526922,\n",
              "   'val_recall': 0.6237855374391805},\n",
              "  'train_loss': 0.3251706895353524,\n",
              "  'val_loss': 0.33592690474535586},\n",
              " 8: {'epoch_num': 8,\n",
              "  'train_batches_per_epoch': 2481,\n",
              "  'val_batches_per_epoch': 338,\n",
              "  'metrics': {'train_acc': 0.5723372632003224,\n",
              "   'val_acc': 0.5717455621301775,\n",
              "   'val_f1_score': 0.7024008757856842,\n",
              "   'val_precision': 0.7779653432155778,\n",
              "   'val_recall': 0.6467809986243981},\n",
              "  'train_loss': 0.315841168982038,\n",
              "  'val_loss': 0.33264197611949853},\n",
              " 9: {'epoch_num': 9,\n",
              "  'train_batches_per_epoch': 2481,\n",
              "  'val_batches_per_epoch': 338,\n",
              "  'metrics': {'train_acc': 0.583824566706973,\n",
              "   'val_acc': 0.5764607988165681,\n",
              "   'val_f1_score': 0.7126741499635516,\n",
              "   'val_precision': 0.7642258596279082,\n",
              "   'val_recall': 0.6741973764513288},\n",
              "  'train_loss': 0.3071004039142844,\n",
              "  'val_loss': 0.3294423818588257},\n",
              " 10: {'epoch_num': 10,\n",
              "  'train_batches_per_epoch': 2481,\n",
              "  'val_batches_per_epoch': 338,\n",
              "  'metrics': {'train_acc': 0.5925408101571947,\n",
              "   'val_acc': 0.5803439349112426,\n",
              "   'val_f1_score': 0.7066251966022236,\n",
              "   'val_precision': 0.7919015239607275,\n",
              "   'val_recall': 0.6444917378091678},\n",
              "  'train_loss': 0.2989470057913201,\n",
              "  'val_loss': 0.32767166677840365},\n",
              " 11: {'epoch_num': 11,\n",
              "  'train_batches_per_epoch': 2481,\n",
              "  'val_batches_per_epoch': 338,\n",
              "  'metrics': {'train_acc': 0.6032345828295043,\n",
              "   'val_acc': 0.5881102071005917,\n",
              "   'val_f1_score': 0.7116249899712656,\n",
              "   'val_precision': 0.7924276878090933,\n",
              "   'val_recall': 0.6520703756334759},\n",
              "  'train_loss': 0.2884661178526884,\n",
              "  'val_loss': 0.32410503672601204}}"
            ]
          },
          "metadata": {},
          "execution_count": 42
        }
      ]
    },
    {
      "cell_type": "code",
      "source": [
        "import matplotlib.pyplot as plt\n",
        "\n",
        "data = metrics_history\n",
        "\n",
        "epochs = [entry['epoch_num'] for entry in data.values()]\n",
        "train_acc = [entry['metrics']['train_acc'] for entry in data.values()]\n",
        "val_acc = [entry['metrics']['val_acc'] for entry in data.values()]\n",
        "val_f1_score = [entry['metrics']['val_f1_score'] for entry in data.values()]\n",
        "val_precision = [entry['metrics']['val_precision'] for entry in data.values()]\n",
        "val_recall = [entry['metrics']['val_recall'] for entry in data.values()]\n",
        "\n",
        "train_loss = [entry['train_loss']  for entry in data.values()]\n",
        "val_loss = [entry['val_loss'] for entry in data.values()]\n",
        "\n",
        "# Plotting Accuracy\n",
        "plt.figure(figsize=(12, 6))\n",
        "plt.subplot(1, 2, 1)\n",
        "plt.plot(epochs, train_acc, label='Train Accuracy', marker='o')\n",
        "plt.plot(epochs, val_acc, label='Validation Accuracy', marker='o')\n",
        "plt.plot(epochs, val_f1_score, label='Validation F1 Score', marker='o')\n",
        "plt.plot(epochs, val_precision, label='Validation Precision', marker='o')\n",
        "plt.plot(epochs, val_recall, label='Validation Recall', marker='o')\n",
        "plt.title('Metrics Over Epochs')\n",
        "plt.xlabel('Epochs')\n",
        "plt.ylabel('metrics')\n",
        "plt.legend()\n",
        "plt.grid(True)\n",
        "\n",
        "# Plotting Loss\n",
        "plt.subplot(1, 2, 2)\n",
        "plt.plot(epochs, train_loss, label='Train Loss', marker='o')\n",
        "plt.plot(epochs, val_loss, label='Validation Loss', marker='o')\n",
        "plt.title('Loss Over Epochs')\n",
        "plt.xlabel('Epochs')\n",
        "plt.ylabel('Loss')\n",
        "plt.legend()\n",
        "plt.grid(True)\n",
        "\n",
        "plt.tight_layout()\n",
        "plt.show()"
      ],
      "metadata": {
        "colab": {
          "base_uri": "https://localhost:8080/",
          "height": 341
        },
        "id": "vImDIDE3Ni6u",
        "outputId": "9b340004-184d-4ce4-9849-66a3064f8934"
      },
      "execution_count": 43,
      "outputs": [
        {
          "output_type": "display_data",
          "data": {
            "text/plain": [
              "<Figure size 1200x600 with 2 Axes>"
            ],
            "image/png": "[encoded data removed]"
          },
          "metadata": {}
        }
      ]
    },
    {
      "cell_type": "code",
      "source": [],
      "metadata": {
        "id": "dDeftWYFO2vA"
      },
      "execution_count": null,
      "outputs": []
    }
  ],
  "metadata": {
    "accelerator": "GPU",
    "colab": {
      "provenance": [],
      "gpuType": "T4"
    },
    "kernelspec": {
      "display_name": "Python 3",
      "name": "python3"
    },
    "language_info": {
      "name": "python"
    }
  },
  "nbformat": 4,
  "nbformat_minor": 0
}